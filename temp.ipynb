{
  "nbformat": 4,
  "nbformat_minor": 0,
  "metadata": {
    "colab": {
      "name": "temp.ipynb",
      "provenance": [],
      "include_colab_link": true
    },
    "kernelspec": {
      "name": "python3",
      "display_name": "Python 3"
    }
  },
  "cells": [
    {
      "cell_type": "markdown",
      "metadata": {
        "id": "view-in-github",
        "colab_type": "text"
      },
      "source": [
        "<a href=\"https://colab.research.google.com/github/Akif-Mufti/Machine-Learning-with-Python/blob/master/temp.ipynb\" target=\"_parent\"><img src=\"https://colab.research.google.com/assets/colab-badge.svg\" alt=\"Open In Colab\"/></a>"
      ]
    },
    {
      "cell_type": "code",
      "metadata": {
        "id": "8JbMwG0U3Gk-",
        "colab_type": "code",
        "colab": {}
      },
      "source": [
        "# Python Project Template\n",
        "# 1. Prepare Problem\n",
        "# a) Load libraries\n",
        "# b) Load dataset\n",
        "# 2. Summarize Data\n",
        "# a) Descriptive statistics\n",
        "# b) Data visualizations\n",
        "# 3. Prepare Data\n",
        "# a) Data Cleaning\n",
        "# b) Feature Selection\n",
        "# c) Data Transforms\n",
        "# 4. Evaluate Algorithms\n",
        "# a) Split-out validation dataset\n",
        "# b) Test options and evaluation metric\n",
        "# c) Spot Check Algorithms\n",
        "# d) Compare Algorithms\n",
        "# 5. Improve Accuracy\n",
        "# a) Algorithm Tuning\n",
        "# b) Ensembles\n",
        "# 6. Finalize Model\n",
        "# a) Predictions on validation dataset\n",
        "# b) Create standalone model on entire training dataset\n",
        "# c) Save model for later use"
      ],
      "execution_count": 0,
      "outputs": []
    }
  ]
}