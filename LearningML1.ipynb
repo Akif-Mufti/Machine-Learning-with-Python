{
  "nbformat": 4,
  "nbformat_minor": 0,
  "metadata": {
    "colab": {
      "name": "LearningML1.ipynb",
      "provenance": [],
      "include_colab_link": true
    },
    "kernelspec": {
      "name": "python3",
      "display_name": "Python 3"
    }
  },
  "cells": [
    {
      "cell_type": "markdown",
      "metadata": {
        "id": "view-in-github",
        "colab_type": "text"
      },
      "source": [
        "<a href=\"https://colab.research.google.com/github/Akif-Mufti/Machine-Learning-with-Python/blob/master/LearningML1.ipynb\" target=\"_parent\"><img src=\"https://colab.research.google.com/assets/colab-badge.svg\" alt=\"Open In Colab\"/></a>"
      ]
    },
    {
      "cell_type": "code",
      "metadata": {
        "id": "5iy22zVdYF7c",
        "colab_type": "code",
        "colab": {}
      },
      "source": [
        ""
      ],
      "execution_count": 0,
      "outputs": []
    },
    {
      "cell_type": "code",
      "metadata": {
        "id": "_F_VlQjXYHLC",
        "colab_type": "code",
        "colab": {
          "base_uri": "https://localhost:8080/",
          "height": 34
        },
        "outputId": "af7ac3e6-6b6a-4f3b-8c2b-c90aa1c623cb"
      },
      "source": [
        "import csv\n",
        "import numpy\n",
        "filename = 'pima-indians-diabetes.data.csv'\n",
        "raw_data = open(filename, 'r')\n",
        "reader = csv.reader(raw_data, delimiter=',', quoting=csv.QUOTE_NONE)\n",
        "x = list(reader)\n",
        "data = numpy.array(x).astype('float')\n",
        "#prints the dimensions of the data\n",
        "print(data.shape)"
      ],
      "execution_count": 11,
      "outputs": [
        {
          "output_type": "stream",
          "text": [
            "(768, 9)\n"
          ],
          "name": "stdout"
        }
      ]
    },
    {
      "cell_type": "code",
      "metadata": {
        "id": "wk2k2r92cIDV",
        "colab_type": "code",
        "colab": {}
      },
      "source": [
        ""
      ],
      "execution_count": 0,
      "outputs": []
    },
    {
      "cell_type": "code",
      "metadata": {
        "id": "vm6iHbR0bs1v",
        "colab_type": "code",
        "colab": {
          "base_uri": "https://localhost:8080/",
          "height": 204
        },
        "outputId": "2a239682-4807-484b-89f4-b583c269aabe"
      },
      "source": [
        "from pandas import read_csv\n",
        "filename = \"pima-indians-diabetes.data.csv\"\n",
        "#assigning names\n",
        "names = ['preg', 'plas', 'pres', 'skin', 'test', 'mass', 'pedi', 'age', 'class']\n",
        "data = read_csv(filename, names=names)\n",
        "#reading the head \n",
        "peek = data.head(10)\n",
        "print(peek)"
      ],
      "execution_count": 14,
      "outputs": [
        {
          "output_type": "stream",
          "text": [
            "   preg  plas  pres  skin  test  mass   pedi  age  class\n",
            "0     6   148    72    35     0  33.6  0.627   50      1\n",
            "1     1    85    66    29     0  26.6  0.351   31      0\n",
            "2     8   183    64     0     0  23.3  0.672   32      1\n",
            "3     1    89    66    23    94  28.1  0.167   21      0\n",
            "4     0   137    40    35   168  43.1  2.288   33      1\n",
            "5     5   116    74     0     0  25.6  0.201   30      0\n",
            "6     3    78    50    32    88  31.0  0.248   26      1\n",
            "7    10   115     0     0     0  35.3  0.134   29      0\n",
            "8     2   197    70    45   543  30.5  0.158   53      1\n",
            "9     8   125    96     0     0   0.0  0.232   54      1\n"
          ],
          "name": "stdout"
        }
      ]
    },
    {
      "cell_type": "code",
      "metadata": {
        "id": "mzq-sBskcI98",
        "colab_type": "code",
        "colab": {
          "base_uri": "https://localhost:8080/",
          "height": 187
        },
        "outputId": "13f1d702-fb32-40ec-903e-f4cbe47a1ba6"
      },
      "source": [
        "from pandas import read_csv\n",
        "filename = \"pima-indians-diabetes.data.csv\"\n",
        "names = ['preg', 'plas', 'pres', 'skin', 'test', 'mass', 'pedi', 'age', 'class']\n",
        "data = read_csv(filename, names=names)\n",
        "#reading the type of each column\n",
        "types = data.dtypes\n",
        "print(types)"
      ],
      "execution_count": 16,
      "outputs": [
        {
          "output_type": "stream",
          "text": [
            "preg       int64\n",
            "plas       int64\n",
            "pres       int64\n",
            "skin       int64\n",
            "test       int64\n",
            "mass     float64\n",
            "pedi     float64\n",
            "age        int64\n",
            "class      int64\n",
            "dtype: object\n"
          ],
          "name": "stdout"
        }
      ]
    },
    {
      "cell_type": "code",
      "metadata": {
        "id": "L7_pNKWW8Adg",
        "colab_type": "code",
        "colab": {
          "base_uri": "https://localhost:8080/",
          "height": 204
        },
        "outputId": "e77f60e1-473e-4a9e-c447-dfa5c7d74c87"
      },
      "source": [
        "# Statistical Summary\n",
        "from pandas import read_csv\n",
        "from pandas import set_option\n",
        "filename = \"pima-indians-diabetes.data.csv\"\n",
        "names = ['preg', 'plas', 'pres', 'skin', 'test', 'mass', 'pedi', 'age', 'class']\n",
        "data = read_csv(filename, names=names)\n",
        "set_option('display.width', 100)\n",
        "set_option('precision', 3)\n",
        "description = data.describe()\n",
        "print(description)"
      ],
      "execution_count": 17,
      "outputs": [
        {
          "output_type": "stream",
          "text": [
            "          preg     plas     pres     skin  ...     mass     pedi      age    class\n",
            "count  768.000  768.000  768.000  768.000  ...  768.000  768.000  768.000  768.000\n",
            "mean     3.845  120.895   69.105   20.536  ...   31.993    0.472   33.241    0.349\n",
            "std      3.370   31.973   19.356   15.952  ...    7.884    0.331   11.760    0.477\n",
            "min      0.000    0.000    0.000    0.000  ...    0.000    0.078   21.000    0.000\n",
            "25%      1.000   99.000   62.000    0.000  ...   27.300    0.244   24.000    0.000\n",
            "50%      3.000  117.000   72.000   23.000  ...   32.000    0.372   29.000    0.000\n",
            "75%      6.000  140.250   80.000   32.000  ...   36.600    0.626   41.000    1.000\n",
            "max     17.000  199.000  122.000   99.000  ...   67.100    2.420   81.000    1.000\n",
            "\n",
            "[8 rows x 9 columns]\n"
          ],
          "name": "stdout"
        }
      ]
    },
    {
      "cell_type": "code",
      "metadata": {
        "id": "RsBd-1uO8TMh",
        "colab_type": "code",
        "colab": {}
      },
      "source": [
        ""
      ],
      "execution_count": 0,
      "outputs": []
    },
    {
      "cell_type": "code",
      "metadata": {
        "id": "0jfauoeI8aLi",
        "colab_type": "code",
        "colab": {
          "base_uri": "https://localhost:8080/",
          "height": 85
        },
        "outputId": "e6366126-7d82-4ed0-e7dc-811eb091ab03"
      },
      "source": [
        "# Class Distribution\n",
        "from pandas import read_csv\n",
        "filename = \"pima-indians-diabetes.data.csv\"\n",
        "names = ['preg', 'plas', 'pres', 'skin', 'test', 'mass', 'pedi', 'age', 'class']\n",
        "data = read_csv(filename, names=names)\n",
        "class_counts = data.groupby('class').size()\n",
        "print(class_counts)"
      ],
      "execution_count": 20,
      "outputs": [
        {
          "output_type": "stream",
          "text": [
            "class\n",
            "0    500\n",
            "1    268\n",
            "dtype: int64\n"
          ],
          "name": "stdout"
        }
      ]
    },
    {
      "cell_type": "code",
      "metadata": {
        "id": "j85I5epV9SLB",
        "colab_type": "code",
        "colab": {
          "base_uri": "https://localhost:8080/",
          "height": 187
        },
        "outputId": "21251bfe-b3dc-4b2e-9fd9-3be42f345f50"
      },
      "source": [
        "# Pairwise Pearson correlations\n",
        "\n",
        "\n",
        "\n",
        "from pandas import read_csv\n",
        "from pandas import set_option\n",
        "filename = \"pima-indians-diabetes.data.csv\"\n",
        "names = ['preg', 'plas', 'pres', 'skin', 'test', 'mass', 'pedi', 'age', 'class']\n",
        "data = read_csv(filename, names=names)\n",
        "set_option('display.width', 100)\n",
        "set_option('precision', 3)\n",
        "correlations = data.corr(method='pearson')\n",
        "print(correlations)"
      ],
      "execution_count": 21,
      "outputs": [
        {
          "output_type": "stream",
          "text": [
            "        preg   plas   pres   skin   test   mass   pedi    age  class\n",
            "preg   1.000  0.129  0.141 -0.082 -0.074  0.018 -0.034  0.544  0.222\n",
            "plas   0.129  1.000  0.153  0.057  0.331  0.221  0.137  0.264  0.467\n",
            "pres   0.141  0.153  1.000  0.207  0.089  0.282  0.041  0.240  0.065\n",
            "skin  -0.082  0.057  0.207  1.000  0.437  0.393  0.184 -0.114  0.075\n",
            "test  -0.074  0.331  0.089  0.437  1.000  0.198  0.185 -0.042  0.131\n",
            "mass   0.018  0.221  0.282  0.393  0.198  1.000  0.141  0.036  0.293\n",
            "pedi  -0.034  0.137  0.041  0.184  0.185  0.141  1.000  0.034  0.174\n",
            "age    0.544  0.264  0.240 -0.114 -0.042  0.036  0.034  1.000  0.238\n",
            "class  0.222  0.467  0.065  0.075  0.131  0.293  0.174  0.238  1.000\n"
          ],
          "name": "stdout"
        }
      ]
    },
    {
      "cell_type": "markdown",
      "metadata": {
        "id": "IliSrX6i9cdi",
        "colab_type": "text"
      },
      "source": [
        "Pearson's Correlation\n",
        "Coefcient, that assumes a normal distribution of the attributes involved. A correlation of -1 or 1 shows a full negative or positive correlation respectively. Whereas a value of 0 shows no correlation at all.\n"
      ]
    },
    {
      "cell_type": "code",
      "metadata": {
        "id": "uL7u-Nem9inr",
        "colab_type": "code",
        "colab": {
          "base_uri": "https://localhost:8080/",
          "height": 187
        },
        "outputId": "abeb49b6-1486-4aa9-b792-7c62e584d4a9"
      },
      "source": [
        "# Skew for each attribute\n",
        "from pandas import read_csv\n",
        "filename = \"pima-indians-diabetes.data.csv\"\n",
        "names = ['preg', 'plas', 'pres', 'skin', 'test', 'mass', 'pedi', 'age', 'class']\n",
        "data = read_csv(filename, names=names)\n",
        "skew = data.skew()\n",
        "print(skew)"
      ],
      "execution_count": 22,
      "outputs": [
        {
          "output_type": "stream",
          "text": [
            "preg     0.902\n",
            "plas     0.174\n",
            "pres    -1.844\n",
            "skin     0.109\n",
            "test     2.272\n",
            "mass    -0.429\n",
            "pedi     1.920\n",
            "age      1.130\n",
            "class    0.635\n",
            "dtype: float64\n"
          ],
          "name": "stdout"
        }
      ]
    },
    {
      "cell_type": "code",
      "metadata": {
        "id": "0TQgzL7X-nKr",
        "colab_type": "code",
        "colab": {}
      },
      "source": [
        ""
      ],
      "execution_count": 0,
      "outputs": []
    },
    {
      "cell_type": "code",
      "metadata": {
        "id": "5IDvUXoG-hzz",
        "colab_type": "code",
        "colab": {}
      },
      "source": [
        "# Skew refers to a distribution that is assumed Gaussian (normal or bell curve) that is shifted or\n",
        "# squashed in one direction or another. Many machine learning algorithms assume a Gaussian\n",
        "# distribution."
      ],
      "execution_count": 0,
      "outputs": []
    },
    {
      "cell_type": "code",
      "metadata": {
        "id": "zU0BeGuO-n0L",
        "colab_type": "code",
        "colab": {
          "base_uri": "https://localhost:8080/",
          "height": 281
        },
        "outputId": "6179fb73-d19c-41f9-837a-016ac8a9ecd4"
      },
      "source": [
        "# A fast way to get an idea of the distribution of each attribute is to look at histograms. Histograms\n",
        "# group data into bins and provide you a count of the number of observations in each bin. From\n",
        "# the shape of the bins you can quickly get a feeling for whether an attribute is Gaussian, skewed\n",
        "# or even has an exponential distribution.\n",
        "\n",
        "# Univariate Histograms\n",
        "from matplotlib import pyplot\n",
        "from pandas import read_csv\n",
        "filename = 'pima-indians-diabetes.data.csv'\n",
        "names = ['preg', 'plas', 'pres', 'skin', 'test', 'mass', 'pedi', 'age', 'class']\n",
        "data = read_csv(filename, names=names)\n",
        "data.hist()\n",
        "pyplot.show()"
      ],
      "execution_count": 23,
      "outputs": [
        {
          "output_type": "display_data",
          "data": {
            "image/png": "[encoded data removed]",
            "text/plain": [
              "<Figure size 432x288 with 9 Axes>"
            ]
          },
          "metadata": {
            "tags": []
          }
        }
      ]
    },
    {
      "cell_type": "code",
      "metadata": {
        "id": "vUk7VU6-A6Qt",
        "colab_type": "code",
        "colab": {
          "base_uri": "https://localhost:8080/",
          "height": 265
        },
        "outputId": "9897a588-3ae4-4a26-de80-0fa28d564d7f"
      },
      "source": [
        "# Density plots are another way of getting a quick idea of the distribution of each attribute. The\n",
        "# plots look like an abstracted histogram with a smooth curve drawn through the top of each bin,\n",
        "# much like your eye tried to do with the histograms.\n",
        "\n",
        "# Univariate Density Plots\n",
        "from matplotlib import pyplot\n",
        "from pandas import read_csv\n",
        "filename = 'pima-indians-diabetes.data.csv'\n",
        "names = ['preg', 'plas', 'pres', 'skin', 'test', 'mass', 'pedi', 'age', 'class']\n",
        "data = read_csv(filename, names=names)\n",
        "data.plot(kind='density', subplots=True, layout=(3,3), sharex=False)\n",
        "pyplot.show()"
      ],
      "execution_count": 24,
      "outputs": [
        {
          "output_type": "display_data",
          "data": {
            "image/png": "[encoded data removed]",
            "text/plain": [
              "<Figure size 432x288 with 9 Axes>"
            ]
          },
          "metadata": {
            "tags": []
          }
        }
      ]
    }
  ]
}